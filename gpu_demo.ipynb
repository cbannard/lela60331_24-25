{
  "nbformat": 4,
  "nbformat_minor": 0,
  "metadata": {
    "colab": {
      "provenance": [],
      "machine_shape": "hm",
      "gpuType": "A100"
    },
    "kernelspec": {
      "name": "python3",
      "display_name": "Python 3"
    },
    "language_info": {
      "name": "python"
    },
    "accelerator": "GPU"
  },
  "cells": [
    {
      "cell_type": "code",
      "execution_count": null,
      "metadata": {
        "id": "lqiFqH76KqAa"
      },
      "outputs": [],
      "source": [
        "import numpy as np\n",
        "import cupy as cp\n",
        "from time import time\n",
        "size = 4096 * 4096\n",
        "input = np.random.random(size)"
      ]
    },
    {
      "cell_type": "code",
      "source": [
        "start_time = time()\n",
        "output = np.sort(input)\n",
        "finish_time = time()\n",
        "elapsed_time = finish_time - start_time\n",
        "print(elapsed_time)"
      ],
      "metadata": {
        "id": "44pszmI2K5rD"
      },
      "execution_count": null,
      "outputs": []
    },
    {
      "cell_type": "code",
      "source": [
        "start_time = time()\n",
        "input_gpu = cp.asarray(input)\n",
        "output = cp.sort(input_gpu)\n",
        "finish_time = time()\n",
        "elapsed_time= finish_time - start_time\n",
        "print(elapsed_time)"
      ],
      "metadata": {
        "id": "y1TV2gFoK65Y"
      },
      "execution_count": null,
      "outputs": []
    }
  ]
}