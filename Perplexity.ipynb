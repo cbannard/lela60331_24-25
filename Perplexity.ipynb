{
 "cells": [
  {
   "cell_type": "markdown",
   "id": "8123fafe",
   "metadata": {},
   "source": [
    "## Calculating Perplexity"
   ]
  },
  {
   "cell_type": "markdown",
   "id": "78462185",
   "metadata": {},
   "source": [
    "This is the code for implementing Perplexity for the example described in Jurafsky and Martin chapter 3 from log probabilities calculated as in our week 3 notebook"
   ]
  },
  {
   "cell_type": "code",
   "execution_count": 9,
   "id": "f78b3ee9",
   "metadata": {},
   "outputs": [],
   "source": [
    "# Set probabilities as states in chapter\n",
    "from collections import defaultdict\n",
    "unigrams = defaultdict(int)\n",
    "unigrams[\"red\"] = 8\n",
    "unigrams[\"blue\"] = 1\n",
    "unigrams[\"green\"] = 1\n"
   ]
  },
  {
   "cell_type": "code",
   "execution_count": 16,
   "id": "dd43fc94",
   "metadata": {},
   "outputs": [],
   "source": [
    "p=0.4"
   ]
  },
  {
   "cell_type": "code",
   "execution_count": 17,
   "id": "bb3f4331",
   "metadata": {},
   "outputs": [
    {
     "data": {
      "text/plain": [
       "-1.3219280948873622"
      ]
     },
     "execution_count": 17,
     "metadata": {},
     "output_type": "execute_result"
    }
   ],
   "source": [
    "math.log(p,2)"
   ]
  },
  {
   "cell_type": "code",
   "execution_count": 18,
   "id": "b9e61d93",
   "metadata": {},
   "outputs": [
    {
     "data": {
      "text/plain": [
       "0.4"
      ]
     },
     "execution_count": 18,
     "metadata": {},
     "output_type": "execute_result"
    }
   ],
   "source": [
    "pow(2,-1.3219280948873622)"
   ]
  },
  {
   "cell_type": "code",
   "execution_count": 24,
   "id": "a471e6a1",
   "metadata": {},
   "outputs": [
    {
     "data": {
      "text/plain": [
       "4.609640474436811"
      ]
     },
     "execution_count": 24,
     "metadata": {},
     "output_type": "execute_result"
    }
   ],
   "source": [
    "# Calculate the log probability of their test sentence given the probabilities\n",
    "import math\n",
    "sentence = [\"red\",\"red\",\"red\",\"red\",\"blue\"]\n",
    "log_prob=0.0\n",
    "# Iterate through the sentence from 0 to the length of the sentence minus 1 (because working with bigrams)\n",
    "for i in range(len(sentence)):\n",
    "  log_prob += -math.log(unigrams[sentence[i]]/10, 2)  \n",
    "log_prob"
   ]
  },
  {
   "cell_type": "markdown",
   "id": "c958d38a",
   "metadata": {},
   "source": [
    "Convert our log probability into a probability"
   ]
  },
  {
   "cell_type": "code",
   "execution_count": 25,
   "id": "bfe036cf",
   "metadata": {},
   "outputs": [
    {
     "data": {
      "text/plain": [
       "0.04096000000000001"
      ]
     },
     "execution_count": 25,
     "metadata": {},
     "output_type": "execute_result"
    }
   ],
   "source": [
    "prob=pow(2,-log_prob)\n",
    "prob"
   ]
  },
  {
   "cell_type": "markdown",
   "id": "d9ebbd10",
   "metadata": {},
   "source": [
    "Calculate the Perplexity"
   ]
  },
  {
   "cell_type": "code",
   "execution_count": 21,
   "id": "27f2db17",
   "metadata": {},
   "outputs": [
    {
     "data": {
      "text/plain": [
       "1.8946457081379975"
      ]
     },
     "execution_count": 21,
     "metadata": {},
     "output_type": "execute_result"
    }
   ],
   "source": [
    "pow(prob,-1/len(sentence))"
   ]
  },
  {
   "cell_type": "code",
   "execution_count": null,
   "id": "529468c9",
   "metadata": {},
   "outputs": [],
   "source": []
  },
  {
   "cell_type": "code",
   "execution_count": 3,
   "id": "350035a4",
   "metadata": {},
   "outputs": [
    {
     "data": {
      "text/plain": [
       "0.04096000000000002"
      ]
     },
     "execution_count": 3,
     "metadata": {},
     "output_type": "execute_result"
    }
   ],
   "source": [
    "# Calculate the probability of the test sentence given the probabilities\n",
    "import math\n",
    "sentence = [\"red\",\"red\",\"red\",\"red\",\"blue\"]\n",
    "prob=1.0\n",
    "# Iterate through the sentence from 0 to the length of the sentence minus 1 (because working with bigrams)\n",
    "for i in range(len(sentence)):\n",
    "  prob *= unigrams[sentence[i]]/10 \n",
    "prob\n",
    "\n"
   ]
  },
  {
   "cell_type": "code",
   "execution_count": 22,
   "id": "49d95afe",
   "metadata": {},
   "outputs": [
    {
     "data": {
      "text/plain": [
       "-4.609640474436811"
      ]
     },
     "execution_count": 22,
     "metadata": {},
     "output_type": "execute_result"
    }
   ],
   "source": [
    "math.log(prob,2)"
   ]
  },
  {
   "cell_type": "code",
   "execution_count": null,
   "id": "6f1bdb99",
   "metadata": {},
   "outputs": [],
   "source": [
    "pow(prob,-1/len(sentence))"
   ]
  },
  {
   "cell_type": "code",
   "execution_count": 4,
   "id": "3a6184b7",
   "metadata": {},
   "outputs": [
    {
     "data": {
      "text/plain": [
       "1.8921152934511918"
      ]
     },
     "execution_count": 4,
     "metadata": {},
     "output_type": "execute_result"
    }
   ],
   "source": [
    "pow(2,0.92)"
   ]
  },
  {
   "cell_type": "code",
   "execution_count": 26,
   "id": "d4fc6190",
   "metadata": {},
   "outputs": [],
   "source": [
    "p1=0.2\n",
    "p2=0.4"
   ]
  },
  {
   "cell_type": "code",
   "execution_count": 28,
   "id": "29e9b78f",
   "metadata": {},
   "outputs": [
    {
     "data": {
      "text/plain": [
       "0.08000000000000002"
      ]
     },
     "execution_count": 28,
     "metadata": {},
     "output_type": "execute_result"
    }
   ],
   "source": [
    "p3=p1*p2\n",
    "p3"
   ]
  },
  {
   "cell_type": "code",
   "execution_count": 29,
   "id": "c0d9c299",
   "metadata": {},
   "outputs": [
    {
     "data": {
      "text/plain": [
       "-3.6438561897747244"
      ]
     },
     "execution_count": 29,
     "metadata": {},
     "output_type": "execute_result"
    }
   ],
   "source": [
    "math.log(p3,2)"
   ]
  },
  {
   "cell_type": "code",
   "execution_count": 30,
   "id": "3ae373ac",
   "metadata": {},
   "outputs": [
    {
     "data": {
      "text/plain": [
       "-3.6438561897747244"
      ]
     },
     "execution_count": 30,
     "metadata": {},
     "output_type": "execute_result"
    }
   ],
   "source": [
    "math.log(p1,2)+math.log(p2,2)"
   ]
  },
  {
   "cell_type": "code",
   "execution_count": 31,
   "id": "4d7bed22",
   "metadata": {},
   "outputs": [],
   "source": [
    "p=0.01"
   ]
  },
  {
   "cell_type": "code",
   "execution_count": 41,
   "id": "fd87d852",
   "metadata": {},
   "outputs": [
    {
     "data": {
      "text/plain": [
       "-6643.856189774724"
      ]
     },
     "execution_count": 41,
     "metadata": {},
     "output_type": "execute_result"
    }
   ],
   "source": [
    "math.log(p,2)*1000"
   ]
  },
  {
   "cell_type": "code",
   "execution_count": null,
   "id": "43b8f4d0",
   "metadata": {},
   "outputs": [],
   "source": []
  }
 ],
 "metadata": {
  "kernelspec": {
   "display_name": "Python 3 (ipykernel)",
   "language": "python",
   "name": "python3"
  },
  "language_info": {
   "codemirror_mode": {
    "name": "ipython",
    "version": 3
   },
   "file_extension": ".py",
   "mimetype": "text/x-python",
   "name": "python",
   "nbconvert_exporter": "python",
   "pygments_lexer": "ipython3",
   "version": "3.10.9"
  }
 },
 "nbformat": 4,
 "nbformat_minor": 5
}
