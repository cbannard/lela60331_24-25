{
  "nbformat": 4,
  "nbformat_minor": 0,
  "metadata": {
    "colab": {
      "provenance": []
    },
    "kernelspec": {
      "name": "python3",
      "display_name": "Python 3"
    },
    "language_info": {
      "name": "python"
    }
  },
  "cells": [
    {
      "cell_type": "markdown",
      "source": [
        "# Week 10 Seminar notebook: Multilayer neural networks\n"
      ],
      "metadata": {
        "id": "yZ9OpSwxbL78"
      }
    },
    {
      "cell_type": "markdown",
      "source": [
        "Problem 1: Given the weights and the input vector below, write the code to calculate the predicted output value y_hat, assuming the model described in the week 9 lecture."
      ],
      "metadata": {
        "id": "rXB5BzEZbxBQ"
      }
    },
    {
      "cell_type": "code",
      "source": [
        "import numpy as np\n",
        "weights_0_1=np.array([[-.59,.75,-.95],[.34,-.17,.12],[-.72,-.6,.6]])\n",
        "weights_1_2=np.array([[.93],[-.37],[.38]])\n",
        "layer_0 = np.array([[ 0, 1, 1 ]])\n",
        "\n"
      ],
      "metadata": {
        "id": "Iv7l63pebdmD"
      },
      "execution_count": null,
      "outputs": []
    },
    {
      "cell_type": "markdown",
      "source": [
        "Problem 2: Given the true label y=1, and the learning rate as specified below, write the code to perform the backwards pass and update the weights."
      ],
      "metadata": {
        "id": "baXh3EhjbdmD"
      }
    },
    {
      "cell_type": "code",
      "source": [
        "true_label = np.array([[1]])\n",
        "learning_rate=0.2"
      ],
      "metadata": {
        "id": "pbsTDtMobdmD"
      },
      "execution_count": null,
      "outputs": []
    },
    {
      "cell_type": "markdown",
      "source": [
        "Problem 3. Given the training data below, complete the code to train the network to solve the problem. You can use the code in the block below the training block to test that the models predictions from the training inputs are approximately correct."
      ],
      "metadata": {
        "id": "wTSJWN9JbdmE"
      }
    },
    {
      "cell_type": "code",
      "source": [
        "inputs = np.array( [[ 0, 0, 1 ],\n",
        "                          [ 0, 1, 1 ],\n",
        "                          [ 1, 0, 1 ],\n",
        "                          [ 1, 1, 1 ] ] )\n",
        "\n",
        "true_labels = np.array([ [0], [1], [1], [0]])"
      ],
      "metadata": {
        "id": "er0Gc1jWbdmE"
      },
      "execution_count": null,
      "outputs": []
    },
    {
      "cell_type": "code",
      "source": [
        "import numpy as np\n",
        "import matplotlib.pyplot as plt\n",
        "\n",
        "learning_rate = 0.35\n",
        "num_features=3\n",
        "hidden_size = 3\n",
        "np.random.seed(1)\n",
        "weights_0_1 = np.random.rand(num_features,hidden_size)\n",
        "np.random.seed(1)\n",
        "weights_1_2 = np.random.rand(hidden_size,1)\n",
        "\n",
        "loss = []\n",
        "n_iters=1000\n",
        "for iteration in range(n_iters):\n",
        "   layer_2_error = 0\n",
        "   for i in range(len(inputs)):\n",
        "      layer_0 = inputs[i]\n",
        "      #print(\"L0:\")\n",
        "      #print(layer_0)\n",
        "      ## Add forward pass\n",
        "      layer_1 =\n",
        "      layer_2 =\n",
        "\n",
        "      layer_2_error+=np.sum((layer_2-true_labels[i])**2)\n",
        "\n",
        "      ## Add backward pass and update weights\n",
        "\n",
        "      layer_2_delta =\n",
        "\n",
        "      layer_1_delta=np.zeros((3,3))\n",
        "      layer_1_delta[0,0]=\n",
        "      layer_1_delta[0,1]=\n",
        "      layer_1_delta[0,2]=\n",
        "\n",
        "      layer_1_delta[1,0]=\n",
        "      layer_1_delta[1,1]=\n",
        "      layer_1_delta[1,2]=\n",
        "\n",
        "      layer_1_delta[2,0]=\n",
        "      layer_1_delta[2,1]=\n",
        "      layer_1_delta[2,2]=\n",
        "\n",
        "      weights_0_1[0,0] -=\n",
        "      weights_0_1[0,1] -=\n",
        "      weights_0_1[0,2] -=\n",
        "      weights_0_1[1,0] -=\n",
        "      weights_0_1[1,1] -=\n",
        "      weights_0_1[1,2] -=\n",
        "      weights_0_1[2,0] -=\n",
        "      weights_0_1[2,1] -=\n",
        "      weights_0_1[2,2] -=\n",
        "\n",
        "      weights_1_2[0] -=\n",
        "      weights_1_2[1] -=\n",
        "      weights_1_2[2] -=\n",
        "\n",
        "\n",
        "   loss.append(layer_2_error)\n",
        "plt.plot(range(1,n_iters),loss[1:])\n",
        "plt.xlabel(\"number of epochs\")\n",
        "plt.ylabel(\"loss\")"
      ],
      "metadata": {
        "id": "RxpMsPmCbdmE"
      },
      "execution_count": null,
      "outputs": []
    },
    {
      "cell_type": "markdown",
      "source": [
        "You can view the results as follows"
      ],
      "metadata": {
        "id": "6SGzn9jpj5TP"
      }
    },
    {
      "cell_type": "code",
      "source": [
        "np. set_printoptions(suppress=True)\n",
        "for k in range(4):\n",
        "  layer_0 = inputs[k]\n",
        "  layer_1 = np.maximum(np.dot(layer_0,weights_0_1),0)\n",
        "  layer_2 = np.dot(layer_1,weights_1_2)\n",
        "  print(layer_2)"
      ],
      "metadata": {
        "id": "4Tb8iwombdmE"
      },
      "execution_count": null,
      "outputs": []
    },
    {
      "cell_type": "markdown",
      "source": [
        "Problem 4: Once you have a model that makes good predictions, try lowering the learning rate. What do you notice? Why do you think this happens?"
      ],
      "metadata": {
        "id": "qPgyCKBxkOWa"
      }
    },
    {
      "cell_type": "markdown",
      "source": [
        "Problem 5. Examine the weights in your model. Give a verbal explanation of why they give the correct answer to the XOR problem"
      ],
      "metadata": {
        "id": "05hmP4oHfUKx"
      }
    },
    {
      "cell_type": "code",
      "source": [
        "Problem 6 (hard problem to try in your own time): rewrite the code you wrote above so that it calculates deltas and updates weights using vector and/or matrix operations rather than element by element"
      ],
      "metadata": {
        "id": "DGre49DfhuQ-"
      },
      "execution_count": null,
      "outputs": []
    },
    {
      "cell_type": "markdown",
      "source": [
        "# Evaluating multiclass classification"
      ],
      "metadata": {
        "id": "jY_n2gVwhL2O"
      }
    },
    {
      "cell_type": "markdown",
      "source": [
        "Problem 7: The gold standard labels and model prediction from our week 9 multiclass classifier are below. Using these lists, write code to calculate the multiclass precision and recall using macroaveraging (see week 7 lectures slides pt 2 for a definition)"
      ],
      "metadata": {
        "id": "pwlv2A4DhgBn"
      }
    },
    {
      "cell_type": "code",
      "source": [
        "q=[0, 0, 2, 0, 0, 0, 0, 0, 0, 2, 0, 0, 0, 0, 0, 0, 0, 0, 0, 2, 1, 2, 2, 1, 1, 1, 2, 1, 1, 1, 1, 1, 1, 1, 1, 1, 2, 2, 2, 1, 2, 0, 2, 2, 1, 2, 2, 2, 2, 1, 1, 0, 2, 0, 1, 2, 1, 2, 2, 1]"
      ],
      "metadata": {
        "id": "WcXH-wXrhTZB"
      },
      "execution_count": null,
      "outputs": []
    },
    {
      "cell_type": "code",
      "source": [
        "y=[0, 0, 0, 0, 0, 0, 0, 0, 0, 0, 0, 0, 0, 0, 0, 0, 0, 0, 0, 0, 1, 1, 1, 1, 1, 1, 1, 1, 1, 1, 1, 1, 1, 1, 1, 1, 1, 1, 1, 1, 2, 2, 2, 2, 2, 2, 2, 2, 2, 2, 2, 2, 2, 2, 2, 2, 2, 2, 2, 2]"
      ],
      "metadata": {
        "id": "JHKAHGrKhVmu"
      },
      "execution_count": null,
      "outputs": []
    },
  ]
}
