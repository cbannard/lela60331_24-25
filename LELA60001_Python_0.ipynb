{
  "cells": [
    {
      "cell_type": "markdown",
      "id": "7ac18e78",
      "metadata": {
        "id": "7ac18e78"
      },
      "source": [
        "# LELA60001  Intro to text processing in Python\n",
        "## What is Python?\n",
        "\n",
        "When we talk about data in computational/corpus linguistics we usually mean text data or audio files. While this data is meaningful to us, to the computer data is always just sequences of numbers. So to a computer the character i is 1101001. Fortunately, we never have to engage with this numeric representation - we can input an i into a computer and it will be converted into the computer's language for us.\n",
        "\n",
        "A similar situation arises with the instructions that a computer applies to data. The instructions that the computer sees are in a purely numeric format known as machine code. Fortunately, we as users do not need to engage with machine code. Instead, we use what is known as a programming language. This is a much easier to read and write language that we input and which is converted to machine code for us.\n",
        "\n",
        "The programming language we will employ for this is called Python."
      ]
    },
    {
      "cell_type": "markdown",
      "id": "f9acedd8",
      "metadata": {
        "id": "f9acedd8"
      },
      "source": [
        "## Variables and datatypes\n",
        "Data in Python programs is manipulated using variables. A variable is like a box in which you can store information of any kind. You assign data to variables using the assignment operator =. For example you can store the number 10 as the variable i as follows:"
      ]
    },
    {
      "cell_type": "code",
      "execution_count": null,
      "id": "f9906764",
      "metadata": {
        "id": "f9906764"
      },
      "outputs": [],
      "source": [
        "i = 5"
      ]
    },
    {
      "cell_type": "markdown",
      "id": "459f4508",
      "metadata": {
        "id": "459f4508"
      },
      "source": [
        "Once stored these variables can be manipulated, for example using the standard mathematical operators for addition \"+\", subtraction \"-\", multiplication \"*\" and division \"/\". For example:"
      ]
    },
    {
      "cell_type": "code",
      "execution_count": null,
      "id": "e1b8536a",
      "metadata": {
        "id": "e1b8536a"
      },
      "outputs": [],
      "source": [
        "i+1*3/2"
      ]
    },
    {
      "cell_type": "markdown",
      "id": "9645372d",
      "metadata": {
        "id": "9645372d"
      },
      "source": [
        "Data in Python has different types. i, as a whole number, is an integer, or int. The output from the operations above, since it contains a decimal point is a floating point number or float. There are other types of numbers in Python but it is these two you will work with most.\n",
        "\n",
        "Variables can also be used to store a letter or a sequence of letters, known as a string:"
      ]
    },
    {
      "cell_type": "code",
      "execution_count": null,
      "id": "ddecf601",
      "metadata": {
        "id": "ddecf601"
      },
      "outputs": [],
      "source": [
        "j = \"My name is \""
      ]
    },
    {
      "cell_type": "markdown",
      "id": "ec0cc6b0",
      "metadata": {
        "id": "ec0cc6b0"
      },
      "source": [
        "The strings can be combined using the \"+\" symbol which when applied to strings functions as a concatenation operator:"
      ]
    },
    {
      "cell_type": "code",
      "execution_count": null,
      "id": "7005e36f",
      "metadata": {
        "id": "7005e36f"
      },
      "outputs": [],
      "source": [
        "k = j + \"Jude Bellingham\""
      ]
    },
    {
      "cell_type": "markdown",
      "id": "1f38b300",
      "metadata": {
        "id": "1f38b300"
      },
      "source": [
        "Once you have stored information in a variable, you can print it as follows:"
      ]
    },
    {
      "cell_type": "code",
      "execution_count": null,
      "id": "5a86d8f5",
      "metadata": {
        "id": "5a86d8f5"
      },
      "outputs": [],
      "source": [
        "print(k)"
      ]
    },
    {
      "cell_type": "markdown",
      "id": "655ffe07",
      "metadata": {
        "id": "655ffe07"
      },
      "source": [
        "You can also print a series of variables as follows:"
      ]
    },
    {
      "cell_type": "code",
      "execution_count": null,
      "id": "4a056c33",
      "metadata": {
        "id": "4a056c33"
      },
      "outputs": [],
      "source": [
        "print(j + \"Jude Bellingham\")"
      ]
    },
    {
      "cell_type": "markdown",
      "id": "28516898",
      "metadata": {
        "id": "28516898"
      },
      "source": [
        "The print function however expects all variables that are concatenated in this way to be of the same data type, so if you mix them you will get an error message"
      ]
    },
    {
      "cell_type": "code",
      "execution_count": null,
      "id": "5125df97",
      "metadata": {
        "id": "5125df97"
      },
      "outputs": [],
      "source": [
        "print(k + \" and my shirt number is \" + i)"
      ]
    },
    {
      "cell_type": "markdown",
      "id": "d0772e52",
      "metadata": {
        "id": "d0772e52"
      },
      "source": [
        "You can avoid this by explicitly converting the type of your variables as in the follows. To change an object stored in a variable x to an int or a float you would write int(x) or float(x) respectively."
      ]
    },
    {
      "cell_type": "code",
      "execution_count": null,
      "id": "8619e2e5",
      "metadata": {
        "id": "8619e2e5"
      },
      "outputs": [],
      "source": [
        "print(k + \" and my shirt number is \" + str(i))"
      ]
    },
    {
      "cell_type": "markdown",
      "id": "a95de56c-4cc4-498a-b27d-9f5e9e5ee761",
      "metadata": {
        "id": "a95de56c-4cc4-498a-b27d-9f5e9e5ee761"
      },
      "source": [
        "Exercise: Add to the code above so that it prints the statement \"My name is Jude Bellingham and shirt number is 5 for Real Madrid but 22 for England\"."
      ]
    },
    {
      "cell_type": "markdown",
      "id": "2605038d",
      "metadata": {
        "id": "2605038d"
      },
      "source": [
        "# A brief mention of functions\n",
        "\n",
        "The commands print() and str() we used above are what known as functions. These are operations that can be applied to entities in our code. These are a very important part of Python programming and later in the subsequent Python sessions we will look at writing our own functions. For now I just want to mention that there are a number of useful built-in functions that can be applied to strings. A list is here: https://www.w3schools.com/python/python_ref_string.asp\n",
        "\n",
        "Here are a couple of examples:"
      ]
    },
    {
      "cell_type": "code",
      "execution_count": null,
      "id": "521f72d7",
      "metadata": {
        "id": "521f72d7"
      },
      "outputs": [],
      "source": [
        "name=\"tom\"\n",
        "str.capitalize(name)"
      ]
    },
    {
      "cell_type": "code",
      "execution_count": null,
      "id": "434abd95",
      "metadata": {
        "id": "434abd95"
      },
      "outputs": [],
      "source": [
        "str.upper(name)"
      ]
    },
    {
      "cell_type": "markdown",
      "id": "4246aa03",
      "metadata": {
        "id": "4246aa03"
      },
      "source": [
        "Exercise: Use a function to turn the name tom into the name tommy"
      ]
    },
    {
      "cell_type": "code",
      "execution_count": null,
      "id": "c842ff53-f052-4e8c-94d3-8be4fbcf65c3",
      "metadata": {
        "id": "c842ff53-f052-4e8c-94d3-8be4fbcf65c3"
      },
      "outputs": [],
      "source": []
    },
    {
      "cell_type": "markdown",
      "id": "929b3bab",
      "metadata": {
        "id": "929b3bab"
      },
      "source": [
        "# Lists\n",
        "\n",
        "So far I have represented sentences as single strings. For most purposes in computational linguistics we don't want to do this - we want instead to represent them in ways that recognizes the word boundaries. In order to do this we often represent sentences as lists of words, each of which is represented as a string. A list of strings can be created by putting words (as strings in quotes) inside square brackets as in the following example:"
      ]
    },
    {
      "cell_type": "code",
      "execution_count": null,
      "id": "3a5be46f",
      "metadata": {
        "id": "3a5be46f"
      },
      "outputs": [],
      "source": [
        "sentence = [\"this\", \"is\", \"a\", \"sentence\"]"
      ]
    },
    {
      "cell_type": "markdown",
      "id": "e10e5a31",
      "metadata": {
        "id": "e10e5a31"
      },
      "source": [
        "We can print lists of words as a single string when needed as follows. The character in the quotes before \".join\" sets the character to be printed between the elements of the list. Here we use a space."
      ]
    },
    {
      "cell_type": "code",
      "execution_count": null,
      "id": "39ec0d58",
      "metadata": {
        "id": "39ec0d58"
      },
      "outputs": [],
      "source": [
        "print(str.join(\" \", sentence))"
      ]
    },
    {
      "cell_type": "markdown",
      "id": "526765e3",
      "metadata": {
        "id": "526765e3"
      },
      "source": [
        "However we can also select elements from within the list. The entries in a list are indexed numberically starting with zero. So the first element is sentence[0] and the last element of this four element list is sentence[3]. These can then be select for printing as follows:"
      ]
    },
    {
      "cell_type": "code",
      "execution_count": null,
      "id": "b7519cd5",
      "metadata": {
        "id": "b7519cd5"
      },
      "outputs": [],
      "source": [
        "print(sentence[2])"
      ]
    },
    {
      "cell_type": "markdown",
      "id": "568a3748",
      "metadata": {
        "id": "568a3748"
      },
      "source": [
        "We can also select subsequences of entries, by specifying a range as follows. Notice that the second character in the range isn't included - so 0:2 means from 0 up to the number before 2."
      ]
    },
    {
      "cell_type": "code",
      "execution_count": null,
      "id": "2f15bd8c",
      "metadata": {
        "id": "2f15bd8c"
      },
      "outputs": [],
      "source": [
        "print(str.join(\" \", sentence[0:2]))"
      ]
    },
    {
      "cell_type": "markdown",
      "id": "fae74c0f",
      "metadata": {
        "id": "fae74c0f"
      },
      "source": [
        "This allows us to, for example, insert elements in the middle of sentences as follows:"
      ]
    },
    {
      "cell_type": "code",
      "execution_count": null,
      "id": "82e133f3",
      "metadata": {
        "id": "82e133f3"
      },
      "outputs": [],
      "source": [
        "print(str.join(\" \", sentence[0:3]) + \" short \" + sentence[3])"
      ]
    },
    {
      "cell_type": "markdown",
      "id": "a78de597",
      "metadata": {
        "id": "a78de597"
      },
      "source": [
        "Exercise: create a sentence in list form for the sequence \"George is a cat\". Then use substring selection to produce the sentence \"George is a big cat\"."
      ]
    },
    {
      "cell_type": "code",
      "execution_count": null,
      "id": "fd68d4c6",
      "metadata": {
        "id": "fd68d4c6"
      },
      "outputs": [],
      "source": []
    },
    {
      "cell_type": "markdown",
      "id": "3f601ea5",
      "metadata": {
        "tags": [],
        "id": "3f601ea5"
      },
      "source": [
        "Like strings, lists have their own built in functions that you can make use of:\n",
        "https://www.w3schools.com/python/python_ref_list.asp"
      ]
    },
    {
      "cell_type": "markdown",
      "id": "b3a95a86",
      "metadata": {
        "tags": [],
        "id": "b3a95a86"
      },
      "source": [
        "# Loading data\n",
        "\n",
        "Computational linguistics involves handling text data. We saw that we can type in a string of characters, or indeed lists of words, above. However instead of typing in data, we often want to load it from files. We are going to use this file: https://www.gutenberg.org/files/2554/2554-0.txt\n",
        "\n",
        "First we can download it to our workspace:"
      ]
    },
    {
      "cell_type": "code",
      "execution_count": null,
      "id": "0103c9d9-b02f-4c18-bf2a-f9d08ddf56fe",
      "metadata": {
        "id": "0103c9d9-b02f-4c18-bf2a-f9d08ddf56fe"
      },
      "outputs": [],
      "source": [
        "!wget https://www.gutenberg.org/files/2554/2554-0.txt"
      ]
    },
    {
      "cell_type": "markdown",
      "id": "66f1eeec-3cba-4653-af02-19cc0721a570",
      "metadata": {
        "id": "66f1eeec-3cba-4653-af02-19cc0721a570"
      },
      "source": [
        "Then we read it in to Python."
      ]
    },
    {
      "cell_type": "code",
      "execution_count": null,
      "id": "521bd781-b1f9-4128-8a5b-66e6fb9b9df1",
      "metadata": {
        "id": "521bd781-b1f9-4128-8a5b-66e6fb9b9df1"
      },
      "outputs": [],
      "source": [
        "f = open('2554-0.txt')\n",
        "raw = f.read()"
      ]
    },
    {
      "cell_type": "markdown",
      "id": "0a1b435d-62da-403d-b62b-0255bb2b17c5",
      "metadata": {
        "id": "0a1b435d-62da-403d-b62b-0255bb2b17c5"
      },
      "source": [
        "We will then extract a single chapter of the novel to work with:"
      ]
    },
    {
      "cell_type": "code",
      "execution_count": null,
      "id": "90044a37",
      "metadata": {
        "id": "90044a37"
      },
      "outputs": [],
      "source": [
        "chapter_one = raw[5464:23725]\n",
        "print(chapter_one)"
      ]
    },
    {
      "cell_type": "markdown",
      "id": "aba8b86e",
      "metadata": {
        "id": "aba8b86e"
      },
      "source": [
        "As you will notice this reads texts in as single strings. As discussed before we usually want to represent sentences in a way that reflects word boundaries. The simplest way to do it is to split on spaces. As we will see there are all sorts of problems with doing this, but for now we'll ignore that and use a built in string function split(). In order to make sure it deals with full stops as we would like we will also use the replace function to separate them from the ends of words."
      ]
    },
    {
      "cell_type": "code",
      "execution_count": null,
      "id": "6a290b73",
      "metadata": {
        "id": "6a290b73"
      },
      "outputs": [],
      "source": [
        "chapter_one = str.replace(chapter_one, \".\",\" .\")\n",
        "chapter_one_tokens = str.split(chapter_one)\n",
        "print(chapter_one_tokens)"
      ]
    },
    {
      "cell_type": "markdown",
      "metadata": {
        "id": "3a659d6d"
      },
      "source": [
        "### Regular Expressions"
      ],
      "id": "3a659d6d"
    },
    {
      "cell_type": "markdown",
      "metadata": {
        "id": "e8f6fcae"
      },
      "source": [
        "Above we used functions that belong to the datatype string to manipulate text. Another a much more powerful way of manipulating text is the regular expression. You can find a good overview in the section 2.1 of the following chapter:\n",
        "https://web.stanford.edu/~jurafsky/slp3/2.pdf\n",
        "Once you have looked at that, the following will get you started on regular expressions in Python. First we need to import the regular expressions library (https://docs.python.org/3/library/re.html):"
      ],
      "id": "e8f6fcae"
    },
    {
      "cell_type": "code",
      "execution_count": null,
      "metadata": {
        "id": "7b4e577d"
      },
      "outputs": [],
      "source": [
        "import re"
      ],
      "id": "7b4e577d"
    },
    {
      "cell_type": "markdown",
      "metadata": {
        "id": "23259638"
      },
      "source": [
        "### re.findall()\n",
        "One very useful function in the re package is re.findall() - this searches for occurences of a pattern in a given string. It takes a regular expression to search for, between quotes, as its first argument and a string to search as its second argument. If it find matches, it returns them in a list:"
      ],
      "id": "23259638"
    },
    {
      "cell_type": "code",
      "execution_count": null,
      "metadata": {
        "id": "c2e719a5"
      },
      "outputs": [],
      "source": [
        "sentence=\"I like both dogs and cats\"\n",
        "re.findall(\"cats\", sentence)"
      ],
      "id": "c2e719a5"
    },
    {
      "cell_type": "markdown",
      "metadata": {
        "id": "90e2559e"
      },
      "source": [
        "Exercise: Based on what you learned about in this weeks lecture rewrite this pattern so that it finds all of the things that the speaker likes:"
      ],
      "id": "90e2559e"
    },
    {
      "cell_type": "code",
      "execution_count": null,
      "metadata": {
        "id": "69a764a7"
      },
      "outputs": [],
      "source": [
        "re.findall(\"\", sentence)"
      ],
      "id": "69a764a7"
    },
    {
      "cell_type": "markdown",
      "metadata": {
        "id": "815b8799"
      },
      "source": [
        "For this new sentence write a pattern that detects all of the things that the speaker likes:"
      ],
      "id": "815b8799"
    },
    {
      "cell_type": "code",
      "execution_count": null,
      "metadata": {
        "id": "45383a36"
      },
      "outputs": [],
      "source": [
        "sentence3=\"I like dogs, cats and rabbits\""
      ],
      "id": "45383a36"
    },
    {
      "cell_type": "code",
      "execution_count": null,
      "metadata": {
        "id": "b1bf09ba"
      },
      "outputs": [],
      "source": [
        "re.findall(\"\", sentence3)"
      ],
      "id": "b1bf09ba"
    },
    {
      "cell_type": "markdown",
      "metadata": {
        "id": "8726769c"
      },
      "source": [
        "For this new sentence detect all past tense forms of verbs:"
      ],
      "id": "8726769c"
    },
    {
      "cell_type": "code",
      "execution_count": null,
      "metadata": {
        "id": "1d57f1c6"
      },
      "outputs": [],
      "source": [
        "sentence4=\"I wanted some exercise so I walked to work today\""
      ],
      "id": "1d57f1c6"
    },
    {
      "cell_type": "code",
      "execution_count": null,
      "metadata": {
        "id": "85ef7420"
      },
      "outputs": [],
      "source": [
        "re.findall(\"\", sentence4)"
      ],
      "id": "85ef7420"
    },
    {
      "cell_type": "markdown",
      "metadata": {
        "id": "f6af4edd"
      },
      "source": [
        "Do the same for sentence 5:"
      ],
      "id": "f6af4edd"
    },
    {
      "cell_type": "code",
      "execution_count": null,
      "metadata": {
        "id": "1938ec36"
      },
      "outputs": [],
      "source": [
        "sentence5=\"I wanted some exercise so I walked to work today and was tired afterwards\""
      ],
      "id": "1938ec36"
    },
    {
      "cell_type": "code",
      "execution_count": null,
      "metadata": {
        "id": "1e59d214"
      },
      "outputs": [],
      "source": [
        "re.findall(\"\", sentence5)"
      ],
      "id": "1e59d214"
    }
  ],
  "metadata": {
    "kernelspec": {
      "display_name": "Python 3",
      "language": "python",
      "name": "python3"
    },
    "language_info": {
      "codemirror_mode": {
        "name": "ipython",
        "version": 3
      },
      "file_extension": ".py",
      "mimetype": "text/x-python",
      "name": "python",
      "nbconvert_exporter": "python",
      "pygments_lexer": "ipython3",
      "version": "3.8.8"
    },
    "colab": {
      "provenance": []
    }
  },
  "nbformat": 4,
  "nbformat_minor": 5
}