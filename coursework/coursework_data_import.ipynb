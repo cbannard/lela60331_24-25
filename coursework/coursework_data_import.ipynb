{
  "nbformat": 4,
  "nbformat_minor": 0,
  "metadata": {
    "colab": {
      "provenance": []
    },
    "kernelspec": {
      "name": "python3",
      "display_name": "Python 3"
    },
    "language_info": {
      "name": "python"
    }
  },
  "cells": [
    {
      "cell_type": "code",
      "execution_count": 8,
      "metadata": {
        "colab": {
          "base_uri": "https://localhost:8080/"
        },
        "id": "jhNWdx7l84yP",
        "outputId": "593e32fd-5f63-4caf-fe08-0ef4a3d94e95"
      },
      "outputs": [
        {
          "output_type": "stream",
          "name": "stdout",
          "text": [
            "--2024-11-04 11:38:56--  https://raw.githubusercontent.com/cbannard/lela60331_24-25/refs/heads/main/Compiled_Reviews.txt\n",
            "Resolving raw.githubusercontent.com (raw.githubusercontent.com)... 185.199.108.133, 185.199.109.133, 185.199.110.133, ...\n",
            "Connecting to raw.githubusercontent.com (raw.githubusercontent.com)|185.199.108.133|:443... connected.\n",
            "HTTP request sent, awaiting response... 200 OK\n",
            "Length: 22322605 (21M) [text/plain]\n",
            "Saving to: ‘Compiled_Reviews.txt’\n",
            "\n",
            "Compiled_Reviews.tx 100%[===================>]  21.29M   125MB/s    in 0.2s    \n",
            "\n",
            "2024-11-04 11:38:57 (125 MB/s) - ‘Compiled_Reviews.txt’ saved [22322605/22322605]\n",
            "\n"
          ]
        }
      ],
      "source": [
        "!wget https://raw.githubusercontent.com/cbannard/lela60331_24-25/refs/heads/main/Compiled_Reviews.txt"
      ]
    },
    {
      "cell_type": "code",
      "source": [
        "d = []\n",
        "reviews=[]\n",
        "sentiment_ratings=[]\n",
        "topics=[]\n",
        "helpfulness_ratings=[]\n",
        "\n",
        "with open(\"Compiled_Reviews.txt\") as f:\n",
        "   for line in f.readlines()[1:]:\n",
        "        fields = line.rstrip().split('\\t')\n",
        "        reviews.append(fields[0])\n",
        "        sentiment_ratings.append(fields[1])\n",
        "        topics.append(fields[2])\n",
        "        helpfulness_ratings.append(fields[3])\n"
      ],
      "metadata": {
        "id": "Li-IcrXi9O8G"
      },
      "execution_count": 34,
      "outputs": []
    }
  ]
}