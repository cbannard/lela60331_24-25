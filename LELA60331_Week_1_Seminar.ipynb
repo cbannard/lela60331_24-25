{
  "cells": [
    {
      "cell_type": "markdown",
      "id": "9nh3-HVWB778",
      "metadata": {
        "id": "9nh3-HVWB778"
      },
      "source": [
        "# LELA60331  Computational Linguistics 1 Week 1\n",
        "\n",
        "Today I am going to give a very brief introduction to variables and datatypes in Python before moving on to regular expressions and finite state acceptors.\n"
      ]
    },
    {
      "cell_type": "markdown",
      "id": "f9acedd8",
      "metadata": {
        "id": "f9acedd8"
      },
      "source": [
        "## Variables and datatypes\n",
        " A variable is like a box in which you can store information of any kind. You assign data to variables using the assignment operator =. For example you can store the number 5 as the variable i as follows:"
      ]
    },
    {
      "cell_type": "code",
      "execution_count": null,
      "id": "f9906764",
      "metadata": {
        "id": "f9906764"
      },
      "outputs": [],
      "source": [
        "i = 5"
      ]
    },
    {
      "cell_type": "markdown",
      "id": "459f4508",
      "metadata": {
        "id": "459f4508"
      },
      "source": [
        "Once stored these variables can be manipulated, for example using the standard mathematical operators for addition \"+\", subtraction \"-\", multiplication \"*\" and division \"/\". For example:"
      ]
    },
    {
      "cell_type": "code",
      "execution_count": null,
      "id": "e1b8536a",
      "metadata": {
        "id": "e1b8536a"
      },
      "outputs": [],
      "source": [
        "i+1*3/2"
      ]
    },
    {
      "cell_type": "markdown",
      "id": "9645372d",
      "metadata": {
        "id": "9645372d"
      },
      "source": [
        "Data in Python has different types. i, as a whole number, is an integer, or int. The output from the operations above, since it contains a decimal point is a floating point number or float. There are other types of numbers in Python but it is these two you will work with most.\n",
        "\n",
        "Variables can also be used to store a letter or a sequence of letters, known as a string:"
      ]
    },
    {
      "cell_type": "code",
      "execution_count": null,
      "id": "ddecf601",
      "metadata": {
        "id": "ddecf601"
      },
      "outputs": [],
      "source": [
        "j = \"My name is \""
      ]
    },
    {
      "cell_type": "markdown",
      "id": "ec0cc6b0",
      "metadata": {
        "id": "ec0cc6b0"
      },
      "source": [
        "The strings can be combined using the \"+\" symbol which when applied to strings functions as a concatenation operator:"
      ]
    },
    {
      "cell_type": "code",
      "execution_count": null,
      "id": "7005e36f",
      "metadata": {
        "id": "7005e36f"
      },
      "outputs": [],
      "source": [
        "k = j + \"Jude Bellingham\""
      ]
    },
    {
      "cell_type": "markdown",
      "id": "1f38b300",
      "metadata": {
        "id": "1f38b300"
      },
      "source": [
        "Once you have stored information in a variable, you can print it as follows:"
      ]
    },
    {
      "cell_type": "code",
      "execution_count": null,
      "id": "5a86d8f5",
      "metadata": {
        "id": "5a86d8f5"
      },
      "outputs": [],
      "source": [
        "print(k)"
      ]
    },
    {
      "cell_type": "markdown",
      "source": [
        "Note that in Jupyter notebooks, the output from any code you run will be printed out automatically as in the cell below. So including it is optional. It will be needed in other contexts though so keep that in mind. I will include it where it helps to make the code clearer."
      ],
      "metadata": {
        "id": "XsyT6yRqkHdm"
      },
      "id": "XsyT6yRqkHdm"
    },
    {
      "cell_type": "code",
      "source": [
        "k"
      ],
      "metadata": {
        "id": "T2IcfkMH18G2"
      },
      "id": "T2IcfkMH18G2",
      "execution_count": null,
      "outputs": []
    },
    {
      "cell_type": "markdown",
      "id": "655ffe07",
      "metadata": {
        "id": "655ffe07"
      },
      "source": [
        "You can also print a series of variables as follows:"
      ]
    },
    {
      "cell_type": "code",
      "execution_count": null,
      "id": "4a056c33",
      "metadata": {
        "id": "4a056c33"
      },
      "outputs": [],
      "source": [
        "print(j + \"Jude Bellingham\")"
      ]
    },
    {
      "cell_type": "markdown",
      "id": "28516898",
      "metadata": {
        "id": "28516898"
      },
      "source": [
        "The print function however expects all variables that are concatenated in this way to be of the same data type, so if you mix them you will get an error message"
      ]
    },
    {
      "cell_type": "code",
      "execution_count": null,
      "id": "5125df97",
      "metadata": {
        "id": "5125df97"
      },
      "outputs": [],
      "source": [
        "print(k + \" and my shirt number is \" + i)"
      ]
    },
    {
      "cell_type": "markdown",
      "id": "d0772e52",
      "metadata": {
        "id": "d0772e52"
      },
      "source": [
        "You can avoid this by explicitly converting the type of your variables as in the follows. To change an object stored in a variable x to an int or a float you would write int(x) or float(x) respectively."
      ]
    },
    {
      "cell_type": "code",
      "execution_count": null,
      "id": "8619e2e5",
      "metadata": {
        "id": "8619e2e5"
      },
      "outputs": [],
      "source": [
        "k + \" and my shirt number is \" + str(i)"
      ]
    },
    {
      "cell_type": "markdown",
      "source": [
        "### Exercise 1 (to do in your own time if you are new to Python)\n",
        "Add to the code below so that it prints the statement \"My name is Jude Bellingham and shirt number is 5 for Real Madrid but 22 for England\"."
      ],
      "metadata": {
        "id": "8DptFRB-jgDq"
      },
      "id": "8DptFRB-jgDq"
    },
    {
      "cell_type": "code",
      "source": [
        "i2=22\n",
        "\n",
        "print()"
      ],
      "metadata": {
        "id": "yMvx2P1njlxv"
      },
      "id": "yMvx2P1njlxv",
      "execution_count": null,
      "outputs": []
    },
    {
      "cell_type": "markdown",
      "id": "3a659d6d",
      "metadata": {
        "id": "3a659d6d"
      },
      "source": [
        "### Regular Expressions"
      ]
    },
    {
      "cell_type": "markdown",
      "id": "e8f6fcae",
      "metadata": {
        "id": "e8f6fcae"
      },
      "source": [
        "In order to use regular expressions in Python we need to import the regular expressions library (https://docs.python.org/3/library/re.html):"
      ]
    },
    {
      "cell_type": "code",
      "execution_count": null,
      "id": "7b4e577d",
      "metadata": {
        "id": "7b4e577d"
      },
      "outputs": [],
      "source": [
        "import re"
      ]
    },
    {
      "cell_type": "markdown",
      "id": "29da995b-ff70-48f2-acc6-2377a5f2aaca",
      "metadata": {
        "id": "29da995b-ff70-48f2-acc6-2377a5f2aaca"
      },
      "source": [
        "### re.match()"
      ]
    },
    {
      "cell_type": "code",
      "execution_count": null,
      "id": "8c0c0041-7482-430e-acac-6b256d830ade",
      "metadata": {
        "id": "8c0c0041-7482-430e-acac-6b256d830ade"
      },
      "outputs": [],
      "source": [
        "str=\"cats\""
      ]
    },
    {
      "cell_type": "code",
      "execution_count": null,
      "id": "71cfb2db-f82f-4208-8f24-0caa5b13444e",
      "metadata": {
        "id": "71cfb2db-f82f-4208-8f24-0caa5b13444e"
      },
      "outputs": [],
      "source": [
        "re.match(\".*s$\",str)"
      ]
    },
    {
      "cell_type": "markdown",
      "id": "559c5b61-2875-4c5e-805e-064b0e7311bb",
      "metadata": {
        "id": "559c5b61-2875-4c5e-805e-064b0e7311bb"
      },
      "source": [
        "### re.compile()\n",
        "\n",
        "For patterns that we want to use again and again we can use the function re.compile(). This returns a re \"object\" that has all of the re functions."
      ]
    },
    {
      "cell_type": "code",
      "execution_count": null,
      "id": "1bfc392d-d3ef-4b9b-ad8b-e97a3d6e0add",
      "metadata": {
        "id": "1bfc392d-d3ef-4b9b-ad8b-e97a3d6e0add"
      },
      "outputs": [],
      "source": [
        "re0 = re.compile(\".*s\")\n",
        "re0.match(str)"
      ]
    },
    {
      "cell_type": "markdown",
      "source": [
        "### Problem set 1\n",
        "1a. Write (on paper) an FSA that accepts any sequence over alphabet {0,1} (of any length) that ends with a 1\n",
        "\n",
        "1b. Write and test a regular expression that accepts any sequence over alphabet {0,1} (of any length) that ends with a 1"
      ],
      "metadata": {
        "id": "-q8VGjUgLZuN"
      },
      "id": "-q8VGjUgLZuN"
    },
    {
      "cell_type": "code",
      "source": [
        "re1b = re.compile(\"\")\n"
      ],
      "metadata": {
        "id": "RhJYwF9jczPP"
      },
      "id": "RhJYwF9jczPP",
      "execution_count": null,
      "outputs": []
    },
    {
      "cell_type": "markdown",
      "source": [
        "your pattern should accept all of these"
      ],
      "metadata": {
        "id": "c6ZAhSm886l9"
      },
      "id": "c6ZAhSm886l9"
    },
    {
      "cell_type": "code",
      "source": [
        "re1b.match(\"001\")"
      ],
      "metadata": {
        "id": "gVPIGfuT83dt"
      },
      "id": "gVPIGfuT83dt",
      "execution_count": null,
      "outputs": []
    },
    {
      "cell_type": "code",
      "source": [
        "re1b.match(\"1\")"
      ],
      "metadata": {
        "id": "CQZnLBHf8zEg"
      },
      "id": "CQZnLBHf8zEg",
      "execution_count": null,
      "outputs": []
    },
    {
      "cell_type": "markdown",
      "source": [
        "your pattern should reject all of these"
      ],
      "metadata": {
        "id": "v9B1aY9I9Ej8"
      },
      "id": "v9B1aY9I9Ej8"
    },
    {
      "cell_type": "code",
      "source": [
        "re1b.match(\"00\")"
      ],
      "metadata": {
        "id": "DO2sUfjQ9KHf"
      },
      "id": "DO2sUfjQ9KHf",
      "execution_count": null,
      "outputs": []
    },
    {
      "cell_type": "code",
      "source": [
        "re1b.match(\"10\")"
      ],
      "metadata": {
        "id": "L_ZospGR9LUy"
      },
      "id": "L_ZospGR9LUy",
      "execution_count": null,
      "outputs": []
    },
    {
      "cell_type": "markdown",
      "source": [
        "1c. Write (on paper) an FSA that accepts any sequence over alphabet {0,1} (of length at least 2) that ends with a 1\n",
        "\n",
        "1d. Write and test a regular expression that accepts any sequence over alphabet {0,1} (of length at least 2) that ends with a 1"
      ],
      "metadata": {
        "id": "izVI-lHqdFTA"
      },
      "id": "izVI-lHqdFTA"
    },
    {
      "cell_type": "code",
      "source": [
        "re1d = re.compile(\"\")"
      ],
      "metadata": {
        "id": "c4XIxP_C9jxc"
      },
      "id": "c4XIxP_C9jxc",
      "execution_count": null,
      "outputs": []
    },
    {
      "cell_type": "markdown",
      "source": [
        "your pattern should accept all of these"
      ],
      "metadata": {
        "id": "VJBjM8W99cou"
      },
      "id": "VJBjM8W99cou"
    },
    {
      "cell_type": "code",
      "source": [
        "re1d.match(\"001\")"
      ],
      "metadata": {
        "id": "cLf4GQOz9co5"
      },
      "execution_count": null,
      "outputs": [],
      "id": "cLf4GQOz9co5"
    },
    {
      "cell_type": "code",
      "source": [
        "re1d.match(\"11\")"
      ],
      "metadata": {
        "id": "x-2A5AOP9co5"
      },
      "execution_count": null,
      "outputs": [],
      "id": "x-2A5AOP9co5"
    },
    {
      "cell_type": "markdown",
      "source": [
        "your pattern should reject all of these"
      ],
      "metadata": {
        "id": "QUnCR88l9co5"
      },
      "id": "QUnCR88l9co5"
    },
    {
      "cell_type": "code",
      "source": [
        "re1d.match(\"00\")"
      ],
      "metadata": {
        "id": "NVfPIaym9co6"
      },
      "execution_count": null,
      "outputs": [],
      "id": "NVfPIaym9co6"
    },
    {
      "cell_type": "code",
      "source": [
        "re1d.match(\"1\")"
      ],
      "metadata": {
        "id": "sqkfAc_n9co6"
      },
      "execution_count": null,
      "outputs": [],
      "id": "sqkfAc_n9co6"
    },
    {
      "cell_type": "markdown",
      "source": [
        "### Problem set 2\n",
        "2a. Write (on paper) an FSA that accepts any sequence over alphabet {0,1} that ends with 01\n",
        "\n",
        "2b. Write and test a regular expression that accepts any sequence over alphabet {0,1} that ends with 01\n",
        "\n"
      ],
      "metadata": {
        "id": "dYxZ_NyDLZ1X"
      },
      "id": "dYxZ_NyDLZ1X"
    },
    {
      "cell_type": "code",
      "source": [
        "re2b = re.compile(\"\")"
      ],
      "metadata": {
        "id": "epW302I5948h"
      },
      "execution_count": null,
      "outputs": [],
      "id": "epW302I5948h"
    },
    {
      "cell_type": "markdown",
      "source": [
        "your pattern should accept all of these"
      ],
      "metadata": {
        "id": "41FHWPPg948i"
      },
      "id": "41FHWPPg948i"
    },
    {
      "cell_type": "code",
      "source": [
        "re2b.match(\"001\")"
      ],
      "metadata": {
        "id": "NVLgh5uT948i"
      },
      "execution_count": null,
      "outputs": [],
      "id": "NVLgh5uT948i"
    },
    {
      "cell_type": "code",
      "source": [
        "re2b.match(\"101\")"
      ],
      "metadata": {
        "id": "sN7Yjt23948i"
      },
      "execution_count": null,
      "outputs": [],
      "id": "sN7Yjt23948i"
    },
    {
      "cell_type": "markdown",
      "source": [
        "your pattern should reject all of these"
      ],
      "metadata": {
        "id": "PpOTPjUE948i"
      },
      "id": "PpOTPjUE948i"
    },
    {
      "cell_type": "code",
      "source": [
        "re2b.match(\"010\")"
      ],
      "metadata": {
        "id": "w75FeRnJ948i"
      },
      "execution_count": null,
      "outputs": [],
      "id": "w75FeRnJ948i"
    },
    {
      "cell_type": "code",
      "source": [
        "re2b.match(\"11\")"
      ],
      "metadata": {
        "id": "mNkU8eDg948i"
      },
      "execution_count": null,
      "outputs": [],
      "id": "mNkU8eDg948i"
    },
    {
      "cell_type": "markdown",
      "source": [
        "### Problem set 3\n",
        "\n",
        "3a. Write (on paper) an FSA that accepts any sequence over alphabet {0,1} that includes an even number of zeros\n",
        "\n",
        "3b. Write and test a regular expression that accepts any sequence over alphabet {0,1} that includes an even number of zeros"
      ],
      "metadata": {
        "id": "fA0FIap3QuPI"
      },
      "id": "fA0FIap3QuPI"
    },
    {
      "cell_type": "code",
      "source": [
        "re3b = re.compile(\"\")"
      ],
      "metadata": {
        "id": "ZOsbPrKQRibB"
      },
      "execution_count": null,
      "outputs": [],
      "id": "ZOsbPrKQRibB"
    },
    {
      "cell_type": "markdown",
      "source": [
        "your pattern should accept all of these"
      ],
      "metadata": {
        "id": "zSoeEq6oRibC"
      },
      "id": "zSoeEq6oRibC"
    },
    {
      "cell_type": "code",
      "source": [
        "re3b.match(\"1001\")"
      ],
      "metadata": {
        "id": "YxS6kRcyRibC"
      },
      "execution_count": null,
      "outputs": [],
      "id": "YxS6kRcyRibC"
    },
    {
      "cell_type": "code",
      "source": [
        "re3b.match(\"10101\")"
      ],
      "metadata": {
        "id": "X3T-dgYDRibC"
      },
      "execution_count": null,
      "outputs": [],
      "id": "X3T-dgYDRibC"
    },
    {
      "cell_type": "markdown",
      "source": [
        "your pattern should reject all of these"
      ],
      "metadata": {
        "id": "kvyygt0WRibC"
      },
      "id": "kvyygt0WRibC"
    },
    {
      "cell_type": "code",
      "source": [
        "re3b.match(\"000\")"
      ],
      "metadata": {
        "id": "2id3rXxeRibC"
      },
      "execution_count": null,
      "outputs": [],
      "id": "2id3rXxeRibC"
    },
    {
      "cell_type": "code",
      "source": [
        "re3b.match(\"101\")"
      ],
      "metadata": {
        "id": "dIqupYafRibC"
      },
      "execution_count": null,
      "outputs": [],
      "id": "dIqupYafRibC"
    },
    {
      "cell_type": "markdown",
      "source": [
        "### Harder additional problem\n",
        "\n",
        "4a. Write (on paper) an FSA that accepts any sequence over alphabet {0,1} that doesn't end with 01\n",
        "\n",
        "4b. Write and test a regular expression that accepts any sequence over alphabet {0,1} that doesn't end with 01"
      ],
      "metadata": {
        "id": "yPSIsZmaesO4"
      },
      "id": "yPSIsZmaesO4"
    },
    {
      "cell_type": "code",
      "source": [
        "re4b = re.compile(\"\")"
      ],
      "metadata": {
        "id": "j_VCgh-e_M5L"
      },
      "id": "j_VCgh-e_M5L",
      "execution_count": null,
      "outputs": []
    },
    {
      "cell_type": "markdown",
      "source": [
        "your pattern should accept all of these"
      ],
      "metadata": {
        "id": "7Uf3x21z_KCX"
      },
      "id": "7Uf3x21z_KCX"
    },
    {
      "cell_type": "code",
      "source": [
        "re4b.match(\"010\")"
      ],
      "metadata": {
        "id": "FLU5iPwh_KCi"
      },
      "execution_count": null,
      "outputs": [],
      "id": "FLU5iPwh_KCi"
    },
    {
      "cell_type": "code",
      "source": [
        "re4b.match(\"011\")"
      ],
      "metadata": {
        "id": "gCNyxQAN_KCj"
      },
      "execution_count": null,
      "outputs": [],
      "id": "gCNyxQAN_KCj"
    },
    {
      "cell_type": "code",
      "source": [
        "re4b.match(\"1\")"
      ],
      "metadata": {
        "id": "2IwFtnKTLWE8"
      },
      "id": "2IwFtnKTLWE8",
      "execution_count": null,
      "outputs": []
    },
    {
      "cell_type": "markdown",
      "source": [
        "your pattern should reject all of these"
      ],
      "metadata": {
        "id": "B33VnPW-_KCj"
      },
      "id": "B33VnPW-_KCj"
    },
    {
      "cell_type": "code",
      "source": [
        "re4b.match(\"01\")"
      ],
      "metadata": {
        "id": "gHwVst6h_KCj"
      },
      "execution_count": null,
      "outputs": [],
      "id": "gHwVst6h_KCj"
    },
    {
      "cell_type": "code",
      "source": [
        "re4b.match(\"101\")"
      ],
      "metadata": {
        "id": "4QiqRuP7_KCj"
      },
      "execution_count": null,
      "outputs": [],
      "id": "4QiqRuP7_KCj"
    },
    {
      "cell_type": "markdown",
      "id": "23259638",
      "metadata": {
        "id": "23259638"
      },
      "source": [
        "### re.findall()\n",
        "Another very useful function in the re package is re.findall() - this searches for occurences of a pattern in a given string. It takes a regular expression to search for, between quotes, as its first argument and a string to search as its second argument. If it find matches, it returns them in a list."
      ]
    },
    {
      "cell_type": "markdown",
      "source": [
        "### Problem set 3\n",
        "\n",
        "3a. Write an FSA that accepts the past tense forms of verbs.\n",
        "\n",
        "3b. Write a regular expression that accepts the English regular past tense form of verbs, and then use this combined with re.findall() to identify all past tense forms of verbs in sentence 1."
      ],
      "metadata": {
        "id": "zm7ySDUaizx5"
      },
      "id": "zm7ySDUaizx5"
    },
    {
      "cell_type": "code",
      "execution_count": null,
      "id": "1d57f1c6",
      "metadata": {
        "id": "1d57f1c6"
      },
      "outputs": [],
      "source": [
        "sentence1=\"I wanted some exercise so I walked to work today\""
      ]
    },
    {
      "cell_type": "code",
      "execution_count": null,
      "id": "85ef7420",
      "metadata": {
        "id": "85ef7420"
      },
      "outputs": [],
      "source": [
        "re3b = re.compile(\"\")\n",
        "re3b.findall(sentence1)"
      ]
    },
    {
      "cell_type": "markdown",
      "id": "f6af4edd",
      "metadata": {
        "id": "f6af4edd"
      },
      "source": [
        "3c: apply re4 to the sentence 2."
      ]
    },
    {
      "cell_type": "code",
      "execution_count": null,
      "id": "1938ec36",
      "metadata": {
        "id": "1938ec36"
      },
      "outputs": [],
      "source": [
        "sentence5=\"I wanted some exercise so I walked to work today and was tired afterwards\""
      ]
    },
    {
      "cell_type": "markdown",
      "source": [
        "3d. Rewrite your FSA from 3a and your regular expression from 3b so that they perform as you want for sentence 2"
      ],
      "metadata": {
        "id": "Tzja4S2ZlOl2"
      },
      "id": "Tzja4S2ZlOl2"
    },
    {
      "cell_type": "code",
      "source": [
        "re3d = re.compile(\"\")\n",
        "re3d.findall(sentence2)"
      ],
      "metadata": {
        "id": "aHMfAposUt33"
      },
      "id": "aHMfAposUt33",
      "execution_count": null,
      "outputs": []
    },
    {
      "cell_type": "markdown",
      "source": [
        "### Sentence Segmentation with regular expressions\n",
        "\n",
        "We are now going to use regular expressions to segment some text into sentences. Note that the sentence ending character we want to use are special characters in regular expressions, so to match them we need to \"escape\" them by putting a backslash before the character you want to be interpreted literally, as follows:\n",
        "\n",
        "\n",
        " \\\\. \\\\?\n",
        "\n",
        "### Problem set 4\n",
        "4a. Write a regular expression that segments text1 into sentences."
      ],
      "metadata": {
        "id": "WMZrS-FGT2uG"
      },
      "id": "WMZrS-FGT2uG"
    },
    {
      "cell_type": "code",
      "execution_count": null,
      "id": "1e59d214",
      "metadata": {
        "id": "1e59d214"
      },
      "outputs": [],
      "source": [
        "text1 = \"Jim liked ochre. Max prefers pale blue.\"\n",
        "re4a = re.compile(\"\")\n",
        "re4a.findall(text1)"
      ]
    },
    {
      "cell_type": "markdown",
      "source": [
        "4b. Write a regular expression that segments text2 into sentences."
      ],
      "metadata": {
        "id": "kueJEriGW2jW"
      },
      "id": "kueJEriGW2jW"
    },
    {
      "cell_type": "code",
      "source": [
        "text2 = \"Jim had worked for U.N. for 2.5 years. He enjoyed his work.\"\n",
        "re4a = re.compile(\"\")\n",
        "re4a.findall(text1)"
      ],
      "metadata": {
        "id": "IC55EUOUUv88"
      },
      "id": "IC55EUOUUv88",
      "execution_count": null,
      "outputs": []
    }
  ],
  "metadata": {
    "colab": {
      "provenance": []
    },
    "kernelspec": {
      "display_name": "Python 3 (ipykernel)",
      "language": "python",
      "name": "python3"
    },
    "language_info": {
      "codemirror_mode": {
        "name": "ipython",
        "version": 3
      },
      "file_extension": ".py",
      "mimetype": "text/x-python",
      "name": "python",
      "nbconvert_exporter": "python",
      "pygments_lexer": "ipython3",
      "version": "3.12.4"
    }
  },
  "nbformat": 4,
  "nbformat_minor": 5
}